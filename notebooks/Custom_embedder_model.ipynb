{
 "cells": [
  {
   "cell_type": "code",
   "execution_count": 1,
   "id": "ed64cf61-9b53-4866-aaf3-09ab7c28518f",
   "metadata": {},
   "outputs": [],
   "source": [
    "from tqdm import tqdm\n",
    "from torch.nn.utils.rnn import pad_sequence\n",
    "import os\n",
    "from torch_geometric.data import HeteroData, Batch\n",
    "import ujson\n",
    "\n",
    "# Used for finding full path based on name of contract\n",
    "def find_string_with_substring(strings, substring):\n",
    "    return [s for s in strings if substring in s]\n",
    "\n",
    "def build_dataset(repo_paths,embedding_model,is_query):\n",
    "    datas=[]\n",
    "    for repo_path in repo_paths:\n",
    "        nodes = {} #function name: {id,code}\n",
    "        edges = {\n",
    "            ('function', 'parent_contract', 'function'): [], #in list there will be ids of function with this relationship\n",
    "            ('function', 'internal_call', 'function'): [],\n",
    "            ('function', 'high_level_call', 'function'): [],\n",
    "            ('function', 'library_call', 'function'): [],\n",
    "            ('function', 'low_level_call', 'function'): []\n",
    "        }\n",
    "        node_id=0\n",
    "        full_paths = []\n",
    "        # Walk through the directory tree\n",
    "        for subdir, _, files in os.walk(repo_path):\n",
    "            for file_name in files:\n",
    "                full_path = os.path.join(subdir, file_name)\n",
    "                full_paths.append(full_path)\n",
    "        print(repo_path, ' amount functions: ',len(full_paths))\n",
    "    \n",
    "        # give id to all nodes and encode\n",
    "        for node_id, full_path in tqdm(enumerate(full_paths), position=0, leave=True):\n",
    "            # Load the function code JSON\n",
    "            try:\n",
    "                with open(full_path, 'r') as f:\n",
    "                    function_data = ujson.load(f)\n",
    "            except:\n",
    "                print('error ',full_path)\n",
    "                continue\n",
    "            \n",
    "            embeds=embedding_model(function_data[\"Code\"],is_query) #TODO: accumulate into batch and pass\n",
    "            nodes[full_path] = {\n",
    "                \"id\": node_id,\n",
    "                \"code\": embeds\n",
    "            }\n",
    "        # Remember all edges\n",
    "        for full_path in full_paths:\n",
    "            # Load the function code JSON\n",
    "            try:\n",
    "                with open(full_path, 'r') as f:\n",
    "                    function_data = ujson.load(f)\n",
    "            except:\n",
    "                print(f\"parsing error {full_path}\")\n",
    "                continue\n",
    "            node_id = nodes[full_path]['id']\n",
    "    \n",
    "            # Create edges based on the calls\n",
    "            for parent_contract in function_data[\"Parent Contracts\"]:\n",
    "                parent_contract_path = find_string_with_substring(full_paths,parent_contract) # find real path of file\n",
    "                if parent_contract_path!=[] and parent_contract_path in nodes: #check if function is processed into .txt\n",
    "                    edges[('function', 'parent_contract', 'function')].append((nodes[parent_contract_path[0]][\"id\"], node_id))\n",
    "    \n",
    "            for internal_call in function_data[\"Internal Calls\"]:\n",
    "                internal_call_path = find_string_with_substring(full_paths,internal_call)\n",
    "                if internal_call_path!=[] and internal_call_path[0] in nodes:\n",
    "                    edges[('function', 'internal_call', 'function')].append((node_id, nodes[internal_call_path[0]][\"id\"]))\n",
    "    \n",
    "            high_level_calls = function_data[\"High-Level Calls\"]\n",
    "            if len(high_level_calls) != 0 and isinstance(high_level_calls[0], list):\n",
    "                high_level_calls = [] # unpack list of lists\n",
    "                for lst in high_level_calls:\n",
    "                  for elem in lst:\n",
    "                    high_level_calls.append(elem)\n",
    "                      \n",
    "            for high_level_call in high_level_calls:\n",
    "                high_level_call_path = find_string_with_substring(full_paths,high_level_call)\n",
    "                if high_level_call_path!=[] and high_level_call_path[0] in nodes:\n",
    "                    edges[('function', 'high_level_call', 'function')].append((node_id, nodes[high_level_call_path[0]][\"id\"]))\n",
    "    \n",
    "            for library_call in function_data[\"Library Calls\"]:\n",
    "                library_call_path = find_string_with_substring(full_paths,library_call)\n",
    "                if library_call_path!=[] and library_call_path[0] in nodes:\n",
    "                    edges[('function', 'library_call', 'function')].append((node_id, nodes[library_call_path[0]][\"id\"]))\n",
    "    \n",
    "            for low_level_call in function_data[\"Low-Level Calls\"]:\n",
    "                low_level_call_path = find_string_with_substring(full_paths,low_level_call)\n",
    "                if low_level_call_path!=[] and low_level_call_path[0] in nodes:\n",
    "                    edges[('function', 'low_level_call', 'function')].append((node_id, nodes[low_level_call_path[0]][\"id\"]))\n",
    "    \n",
    "        data = HeteroData()\n",
    "    \n",
    "        # Create node type function\n",
    "        repo_funcs_embeddings=[nodes[func][\"code\"].squeeze(0) for func in nodes] #len(list)=amount_files list([256,256])\n",
    "        data['function'].x =torch.stack(repo_funcs_embeddings)\n",
    "        \n",
    "        # print(data['function'].x.shape)\n",
    "        \n",
    "        for edge_type, edge_list in edges.items():\n",
    "            if edge_list:\n",
    "                data[edge_type].edge_index = torch.tensor(edge_list, dtype=torch.long).t().contiguous()\n",
    "        \n",
    "        print(repo_path,' nodes ',len(nodes),' edges ',len(edges.values()))\n",
    "        if edges[('function', 'high_level_call', 'function')]!=[] or edges[('function', 'internal_call', 'function')]!=[] or edges[('function', 'parent_contract', 'function')]!=[] or edges[('function', 'library_call', 'function')]!=[]:\n",
    "            # torch.save(data, f'./data/data/pyg_datasets/{repo_name}.pt')\n",
    "            pass\n",
    "        else:\n",
    "          print(\"Have no edges\")\n",
    "        datas.append(data)\n",
    "\n",
    "    # list to one dataset\n",
    "    combined = Batch.from_data_list(datas)\n",
    "    return combined\n",
    "\n",
    "def sample_negatives(t_n,shape):\n",
    "    # TODO: negative samples should not be randomly chosen\n",
    "    # Train adversarial network? :|\n",
    "    indexes=torch.randint(0, t_n.shape[0], (shape[0],))\n",
    "    lst=[t_n[idx]for idx in indexes]\n",
    "    return torch.stack(lst)\n",
    "\n",
    "def shuffle_pos_neg(t_p, t_n, device):\n",
    "    pos_labels = torch.ones(t_p.size(0), device=device)\n",
    "    neg_labels = torch.zeros(t_n.size(0), device=device)\n",
    "    \n",
    "    # Combine samples and labels\n",
    "    combined_samples = torch.cat((t_p, t_n), dim=0)\n",
    "    combined_labels = torch.cat((pos_labels, neg_labels), dim=0)\n",
    "    \n",
    "    # Generate random permutation indices\n",
    "    num_samples = combined_samples.size(0)\n",
    "    perm = torch.randperm(num_samples, device=device)\n",
    "    \n",
    "    # Shuffle both samples and labels using the same permutation\n",
    "    shuffled_samples = combined_samples[perm]\n",
    "    shuffled_labels = combined_labels[perm]\n",
    "    \n",
    "    return shuffled_samples, shuffled_labels.unsqueeze(1).float()"
   ]
  },
  {
   "cell_type": "code",
   "execution_count": 2,
   "id": "81218f09-22f1-4374-bd7d-2bb4b4e9c491",
   "metadata": {},
   "outputs": [],
   "source": [
    "import torch\n",
    "import torch.nn.functional as F\n",
    "import torch.nn as nn\n",
    "from transformers import AutoModel, AutoTokenizer\n",
    "from torch_geometric.nn import HeteroConv, SAGEConv, global_mean_pool\n",
    "\n",
    "# Initial node (function) embeddings before message passing\n",
    "class NodeEmbeddings(torch.nn.Module):\n",
    "    def __init__(self,tokenizer,model,func_sig_end_symbol):\n",
    "        super().__init__()\n",
    "        self.tokenizer = tokenizer\n",
    "        self.model = model\n",
    "        self.pool=nn.AdaptiveAvgPool2d(output_size=(4096,4096)) #[seq_len,token_dim]\n",
    "        # no idea about what can be good parameters of augpool. Maybe 1d pooling twice?\n",
    "        self.augpool=nn.FractionalMaxPool2d((32,128), output_size=(1024, 1024))\n",
    "        # channels are splitted into 256 groups of 4 channels. Enables inside token conv\n",
    "        self.insidetokenconv=nn.Conv2d(kernel_size=(1,1),in_channels=1024,out_channels=256,groups=256)\n",
    "        # captures patterns in 8, 8*2, 8*4 windows \n",
    "        self.intertokenconv1=nn.Conv2d(kernel_size=(1,8),stride=(1,4),dilation=(1,1),padding=(0,2),in_channels=256, out_channels=128)\n",
    "        self.intertokenconv2=nn.Conv2d(kernel_size=(1,8),stride=(1,4),dilation=(1,2),padding=(0,7),in_channels=256, out_channels=128)\n",
    "        self.intertokenconv3=nn.Conv2d(kernel_size=(1,8),stride=(1,4),dilation=(1,4),padding=(0,13),in_channels=256, out_channels=128)\n",
    "        self.linear=nn.Linear(768,32)\n",
    "        self.func_sig_end_symbol=func_sig_end_symbol\n",
    "\n",
    "    def __call__(self, text, is_query): # one function\n",
    "        if is_query:\n",
    "            code_start_idx=text.find(self.func_sig_end_symbol)\n",
    "            text=text[code_start_idx:]\n",
    "        \n",
    "        tokens = self.tokenizer(text, return_tensors=\"pt\", padding=True, truncation=True)\n",
    "        # tokens to device\n",
    "        tokens = {key: val.to(device) for key, val in tokens.items()}\n",
    "        # aint using saved embeddings since they are too large to be saved for each repo (1tb)\n",
    "        with torch.no_grad(): \n",
    "            # those embeddings are from encoder, meaning they are enriched by attention with tokens before and after token\n",
    "            outputs = self.model(**tokens).last_hidden_state # [1,current_seq_len,4096]\n",
    "            # 1*400*4000*4096*2/1024/1024/1024=12gb per repo raw\n",
    "        # print(torch.sum(outputs))\n",
    "        # outputs.last_hidden_state.mean(dim=1).squeeze(0)\n",
    "        # Mean pool across the sequence dimension for fixed-size embedding\n",
    "        # Mean pool is not trainable\n",
    "        # Too much information is lost (seq_len times)\n",
    "        \n",
    "        # variable-token length to static dimensions\n",
    "        outputs=self.pool(outputs) #[1,4096,4096]\n",
    "        # print(outputs.shape)\n",
    "        # print(torch.sum(outputs))\n",
    "        \n",
    "        # apply pooling with randomness (augpool) to\n",
    "        # 1) 0.5mb graph -> 12gb raw outputs -> 50mb initembeddings. Lots of data to learn\n",
    "        # 2) introduce augmentation on small (25mb) dataset\n",
    "        # 3) embeddings gives supplemental data \n",
    "        outputs=self.augpool(outputs) \n",
    "        outputs=torch.unsqueeze(outputs,dim=2)#[1,1024,1,1024]\n",
    "        # print(torch.sum(outputs))\n",
    "        # print(outputs.shape)\n",
    "        \n",
    "        outputs=self.insidetokenconv(outputs) #[1,256,1,1024]\n",
    "        # print(torch.sum(outputs))\n",
    "        # print(outputs.shape)\n",
    "\n",
    "        # Code inherently structured in blocks, with neighbouring tokens be one block with high chance\n",
    "        # Convolutions may be used to find those blocks\n",
    "        # itransformer suggest to keep token_dim untouched\n",
    "        # outputs=outputs.permute(0,3,2,1)\n",
    "        # print(torch.sum(outputs))\n",
    "        # print(outputs.shape)\n",
    "        outputs1=self.intertokenconv1(outputs)#[1,256,1,128]\n",
    "        outputs2=self.intertokenconv2(outputs)#[1,256,1,128]\n",
    "        outputs3=self.intertokenconv3(outputs)#[1,256,1,128]\n",
    "        outputs=torch.cat((outputs1,outputs2,outputs3),dim=3) #[1, 128, 1, 768]\n",
    "        # print(outputs.shape)\n",
    "        # print(torch.sum(outputs))\n",
    "\n",
    "        # Think block. Transpose above let think on dim=feature\n",
    "        outputs=self.linear(outputs)#[1,256,32]\n",
    "        outputs=torch.flatten(outputs, start_dim=1) #[1,8192]\n",
    "        # print(torch.sum(outputs))\n",
    "        return outputs # [batch=num_nodes=1,node_embeddings]\n",
    "\n",
    "class HeteroGNN(torch.nn.Module):\n",
    "    def __init__(self, metadata, in_channels, hidden_channels, out_channels, num_layers=3, use_edge_features=True):\n",
    "        super(HeteroGNN, self).__init__()\n",
    "\n",
    "        self.node_types = metadata[0]\n",
    "        self.edge_types = metadata[1]\n",
    "        self.num_layers = num_layers\n",
    "        self.use_edge_features = use_edge_features\n",
    "\n",
    "        # first convolution\n",
    "        first_conv_dict = {\n",
    "            (src, rel, dst): SAGEConv(in_channels, hidden_channels)\n",
    "            for src, rel, dst in self.edge_types\n",
    "        }\n",
    "        self.first_conv=HeteroConv(first_conv_dict)\n",
    "        \n",
    "        # middle convolutions\n",
    "        self.convs = torch.nn.ModuleList()\n",
    "        for i in range(num_layers-2):\n",
    "            conv_dict = {}\n",
    "            for edge_type in self.edge_types:\n",
    "                src, rel, dst = edge_type\n",
    "                conv_dict[(src, rel, dst)] = SAGEConv(hidden_channels, hidden_channels)\n",
    "            self.convs.append(HeteroConv(conv_dict))\n",
    "        # final convloution\n",
    "        final_conv_dict = {\n",
    "            (src, rel, dst): SAGEConv(hidden_channels, out_channels)\n",
    "            for src, rel, dst in self.edge_types\n",
    "        }\n",
    "        self.final_conv = HeteroConv(final_conv_dict)\n",
    "\n",
    "        # Pooling layer to aggregate different types of nodes embeddings into a graph embedding\n",
    "        # self.pool = global_mean_pool\n",
    "\n",
    "    def forward(self, data):\n",
    "        x_dict = {node_type: data[node_type].x for node_type in self.node_types}\n",
    "        # edge_index_dict = {edge_type: data[edge_type].edge_index for edge_type in self.edge_types}\n",
    "        edge_index_dict = {}\n",
    "        for edge_type in self.edge_types:\n",
    "            if edge_type in data:\n",
    "                edge_index_dict[edge_type]= data[edge_type].edge_index\n",
    "            else:\n",
    "                edge_index_dict[edge_type]=torch.zeros((2,0),dtype=torch.int32,device=device)\n",
    "        \n",
    "        x_dict=self.first_conv(x_dict,edge_index_dict)\n",
    "        for i in range(self.num_layers-2):\n",
    "            # print(i)\n",
    "            x_dict = self.convs[i](x_dict, edge_index_dict)\n",
    "            x_dict = {key: F.relu(x) for key, x in x_dict.items()}\n",
    "        x_dict = self.final_conv(x_dict, edge_index_dict)\n",
    "\n",
    "        x = torch.cat([x_dict[node_type] for node_type in self.node_types], dim=0)\n",
    "        # Since we have only one node type, pass zeros\n",
    "        # graph_embedding = self.pool(x, torch.zeros(x.shape, dtype=torch.long, device=de))\n",
    "        batch_dict = {nt: data[nt].batch for nt in self.node_types}\n",
    "        return x, batch_dict\n",
    "\n",
    "class GMN(torch.nn.Module):\n",
    "    def __init__(self):\n",
    "        super().__init__()\n",
    "    def __call__(self,anchor_graph,positive_graph,negative_graph,node_batch_a,node_batch_p,node_batch_n):\n",
    "        # positive obtained from same graph as anchor, but with augmentations\n",
    "        uniq,count_a=torch.unique(node_batch_a['function'],return_counts=True)\n",
    "        uniq,count_n=torch.unique(node_batch_n['function'],return_counts=True)\n",
    "        ends_a=torch.cumsum(count_a,dim=0)\n",
    "        starts_a=torch.cat([torch.tensor([0], device=ends_a.device), ends_a[:-1]])\n",
    "        ends_n=torch.cumsum(count_n,dim=0)\n",
    "        starts_n=torch.cat([torch.tensor([0], device=ends_n.device), ends_n[:-1]])\n",
    "\n",
    "        anchor_gmn=[]\n",
    "        pos_gmn=[]\n",
    "        neg_gmn=[]\n",
    "        for i in range(len(starts_a)):\n",
    "            graph_a=anchor_graph[starts_a[i]:ends_a[i],:]\n",
    "            graph_p=positive_graph[starts_a[i]:ends_a[i],:]\n",
    "            graph_n=negative_graph[starts_n[i]:ends_n[i],:]\n",
    "            \n",
    "            concat=torch.cat((graph_a, graph_p, graph_n), dim=0)\n",
    "            # print(concat.shape) # [num_nodes,num_param]\n",
    "\n",
    "            # try different vector sim functions\n",
    "            sims=torch.matmul(concat, concat.T) # [num_nodes,num_nodes]\n",
    "            # print(sims.shape)\n",
    "            matching=concat-sims@concat\n",
    "            gmn_a,gmn_p,gmn_n=torch.split(matching,[graph_a.shape[0],graph_p.shape[0],graph_n.shape[0]])\n",
    "            anchor_gmn.append(gmn_a)\n",
    "            pos_gmn.append(gmn_p)\n",
    "            neg_gmn.append(gmn_n)\n",
    "            \n",
    "        # print(matching.shape)\n",
    "        anchor_gmn = torch.cat(anchor_gmn, dim=0)\n",
    "        pos_gmn = torch.cat(pos_gmn, dim=0)\n",
    "        neg_gmn = torch.cat(neg_gmn, dim=0)\n",
    "        return anchor_gmn,pos_gmn,neg_gmn\n",
    "\n",
    "# model weights 255MB\n",
    "class LinkPredictorHead(torch.nn.Module):\n",
    "    def __init__(self):\n",
    "        super().__init__()\n",
    "        self.conv1=nn.Conv2d(kernel_size=(1,4),padding=(0,1),in_channels=2,out_channels=256)\n",
    "        self.conv2=nn.Conv2d(kernel_size=(1,4),padding=(0,1),in_channels=256,out_channels=128)\n",
    "        self.norm1=nn.BatchNorm1d(128*1*254)\n",
    "        self.linear1=nn.Linear(128*1*254, 2048)\n",
    "        self.norm2=nn.BatchNorm1d(2048)\n",
    "        self.linear2=nn.Linear(2048, 1)\n",
    "        self.sigmoid=nn.Sigmoid()\n",
    "    def __call__(self,nodes1,nodes2): \n",
    "        nodes1=nodes1.unsqueeze(dim=0)# [1, num_nodes, 256])\n",
    "        nodes2=nodes2.unsqueeze(dim=0)# [1, num_nodes, 256]\n",
    "        out=torch.concatenate((nodes1,nodes2)) # [2,num_nodes,256]\n",
    "        out=out.permute(1,0,2).unsqueeze(2) #[num_nodes,chan=2,h=1,w=256]\n",
    "        # print(out.shape) \n",
    "        out=self.conv1(out)\n",
    "        # print(out.shape)\n",
    "        out=self.conv2(out)\n",
    "        # print(out.shape)\n",
    "        out=out.flatten(start_dim=1,end_dim=3) # [num_nodes, 128*1*254]\n",
    "        # print(out.shape)\n",
    "        out=self.norm1(out)\n",
    "        out=self.linear1(out)#[num_nodes,2048]\n",
    "        out=self.norm2(out)\n",
    "        out=self.linear2(out)#[2048,1]\n",
    "        # print(out.shape)\n",
    "        # out=self.sigmoid(out) remove since bcewithlogitloss\n",
    "        return out\n",
    "\n",
    "# class BugMapperHead(torch.nn.Module):\n",
    "#     def __init__(self):\n",
    "#         super().__init__()\n",
    "#         self.mlp=linear()\n",
    "#     def __call__(self,nodes):\n",
    "#         out=self.linear(nodes)\n",
    "#         return out"
   ]
  },
  {
   "cell_type": "code",
   "execution_count": 3,
   "id": "3be20cd7-7a2c-443d-a5bf-cb3464036d3b",
   "metadata": {},
   "outputs": [],
   "source": [
    "# TODO: use previous positive as next negative\n",
    "batch_info=None\n",
    "class MetaEmbedderModel(nn.Module):\n",
    "    def __init__(self, tokenizer, model, func_sig_end_symbol, hidden_channels=1024, out_channels=256):\n",
    "        super().__init__()\n",
    "        self.initial_embedder = NodeEmbeddings(tokenizer,model,func_sig_end_symbol).to(device)\n",
    "        self.gmn = GMN().to(device)\n",
    "        self.dataset_metadata=None\n",
    "        self.gnn_embedder=None\n",
    "        \n",
    "    def setup_metadata(self):\n",
    "        # metadata manual run\n",
    "        initial_embeddings_a=build_dataset(['./data/data/processed_repositories/2024-12-lambowin'],self.initial_embedder,False).to(device)\n",
    "        self.dataset_metadata=initial_embeddings_a[0].metadata()\n",
    "        self.gnn_embedder=HeteroGNN(self.dataset_metadata, in_channels=4096, hidden_channels=1024, out_channels=256).to(device)\n",
    "    \n",
    "    def forward(self,repo_paths_1,repo_paths_2):\n",
    "        # pyg datasets\n",
    "        initial_embeddings_a=build_dataset(repo_paths_1,self.initial_embedder,True).to(device) #query cuts string till first func_sig_end_symbol\n",
    "        initial_embeddings_p=build_dataset(repo_paths_1,self.initial_embedder,False).to(device)\n",
    "        initial_embeddings_n=build_dataset(repo_paths_2,self.initial_embedder,False).to(device)\n",
    "        \n",
    "        # Enrich embeddings with message passing\n",
    "        gnn_embeddings_a, node_batch_a=self.gnn_embedder(initial_embeddings_a) #[total_num_nodes_batch,node_dim]\n",
    "        gnn_embeddings_p, node_batch_p=self.gnn_embedder(initial_embeddings_p)\n",
    "        gnn_embeddings_n, node_batch_n=self.gnn_embedder(initial_embeddings_n)\n",
    "        # print(gnn_embeddings_a.shape,gnn_embeddings_p.shape,gnn_embeddings_n.shape)\n",
    "        \n",
    "        # and GMN crossgraph attention to facilate intragraph embeddings\n",
    "        gmn_a,gmn_p,gmn_n=self.gmn(gnn_embeddings_a,gnn_embeddings_p,gnn_embeddings_n,node_batch_a,node_batch_p,node_batch_n)\n",
    "        print(gmn_a.shape,gmn_p.shape,gmn_n.shape)\n",
    "        #TODO: Use gru instead of sum\n",
    "        gnn_embeddings_a+=gmn_a\n",
    "        gnn_embeddings_p+=gmn_p\n",
    "        gnn_embeddings_n+=gmn_n\n",
    "        \n",
    "        return gnn_embeddings_a,gnn_embeddings_p,gnn_embeddings_n\n",
    "\n",
    "# train embeddings:\n",
    "# link_predictor\n",
    "\n",
    "# Task=generation\n",
    "# test time learning? need overfit on repo, only then produce new code\n",
    "# model_generator=CodeGenerator(model,prompt) \n",
    "# lora? for repository specific adjustment\n",
    "# generation_loss = \n",
    "\n",
    "# Task=bugsearch\n",
    "# model_bugsearch=BugMap()\n",
    "# modify embeddings and check if similar to bug\n",
    "# mapping_loss"
   ]
  },
  {
   "cell_type": "code",
   "execution_count": null,
   "id": "d719c4db-46e8-4577-8c8e-28284969c2d4",
   "metadata": {},
   "outputs": [
    {
     "name": "stdout",
     "output_type": "stream",
     "text": [
      "Using device: cuda:1\n"
     ]
    },
    {
     "data": {
      "application/vnd.jupyter.widget-view+json": {
       "model_id": "b322e6a6abf34ea89719408398c283bf",
       "version_major": 2,
       "version_minor": 0
      },
      "text/plain": [
       "Loading checkpoint shards:   0%|          | 0/4 [00:00<?, ?it/s]"
      ]
     },
     "metadata": {},
     "output_type": "display_data"
    },
    {
     "name": "stdout",
     "output_type": "stream",
     "text": [
      "./data/data/processed_repositories/2024-12-lambowin  amount functions:  173\n"
     ]
    },
    {
     "name": "stderr",
     "output_type": "stream",
     "text": [
      "173it [00:17,  9.90it/s]\n"
     ]
    },
    {
     "name": "stdout",
     "output_type": "stream",
     "text": [
      "./data/data/processed_repositories/2024-12-lambowin  nodes  173  edges  5\n",
      "./data/data/processed_repositories/2023-09-centrifuge  amount functions:  286\n"
     ]
    },
    {
     "name": "stderr",
     "output_type": "stream",
     "text": [
      "286it [00:33,  8.66it/s]\n"
     ]
    },
    {
     "name": "stdout",
     "output_type": "stream",
     "text": [
      "./data/data/processed_repositories/2023-09-centrifuge  nodes  286  edges  5\n",
      "./data/data/processed_repositories/2021-10-badgerdao  amount functions:  39\n"
     ]
    },
    {
     "name": "stderr",
     "output_type": "stream",
     "text": [
      "39it [00:02, 18.40it/s]\n"
     ]
    },
    {
     "name": "stdout",
     "output_type": "stream",
     "text": [
      "./data/data/processed_repositories/2021-10-badgerdao  nodes  39  edges  5\n",
      "./data/data/processed_repositories/2022-10-thegraph  amount functions:  415\n"
     ]
    },
    {
     "name": "stderr",
     "output_type": "stream",
     "text": [
      "39it [00:01, 18.96it/s]"
     ]
    },
    {
     "name": "stdout",
     "output_type": "stream",
     "text": [
      "error  ./data/data/processed_repositories/2022-10-thegraph/RewardsManager/initialize.txt\n",
      "error  ./data/data/processed_repositories/2022-10-thegraph/GovernedMock/constructor.txt\n"
     ]
    },
    {
     "name": "stderr",
     "output_type": "stream",
     "text": [
      "57it [00:02, 21.35it/s]"
     ]
    },
    {
     "name": "stdout",
     "output_type": "stream",
     "text": [
      "error  ./data/data/processed_repositories/2022-10-thegraph/Controller/constructor.txt\n"
     ]
    },
    {
     "name": "stderr",
     "output_type": "stream",
     "text": [
      "85it [00:05, 11.32it/s]"
     ]
    },
    {
     "name": "stdout",
     "output_type": "stream",
     "text": [
      "error  ./data/data/processed_repositories/2022-10-thegraph/GraphTokenUpgradeable/_initialize.txt\n"
     ]
    },
    {
     "name": "stderr",
     "output_type": "stream",
     "text": [
      "91it [00:05, 15.94it/s]"
     ]
    },
    {
     "name": "stdout",
     "output_type": "stream",
     "text": [
      "error  ./data/data/processed_repositories/2022-10-thegraph/L2GraphToken/initialize.txt\n",
      "error  ./data/data/processed_repositories/2022-10-thegraph/ServiceRegistry/initialize.txt\n",
      "error  ./data/data/processed_repositories/2022-10-thegraph/L1GraphTokenGateway/initialize.txt\n"
     ]
    },
    {
     "name": "stderr",
     "output_type": "stream",
     "text": [
      "99it [00:06, 23.16it/s]"
     ]
    },
    {
     "name": "stdout",
     "output_type": "stream",
     "text": [
      "error  ./data/data/processed_repositories/2022-10-thegraph/GraphProxyAdmin/constructor.txt\n"
     ]
    },
    {
     "name": "stderr",
     "output_type": "stream",
     "text": [
      "244it [00:14, 21.27it/s]"
     ]
    },
    {
     "name": "stdout",
     "output_type": "stream",
     "text": [
      "error  ./data/data/processed_repositories/2022-10-thegraph/BridgeEscrow/initialize.txt\n"
     ]
    },
    {
     "name": "stderr",
     "output_type": "stream",
     "text": [
      "272it [00:16, 17.82it/s]"
     ]
    },
    {
     "name": "stdout",
     "output_type": "stream",
     "text": [
      "error  ./data/data/processed_repositories/2022-10-thegraph/EpochManager/initialize.txt\n",
      "error  ./data/data/processed_repositories/2022-10-thegraph/Staking/initialize.txt\n",
      "error  ./data/data/processed_repositories/2022-10-thegraph/GNS/initialize.txt\n",
      "error  ./data/data/processed_repositories/2022-10-thegraph/DisputeManager/initialize.txt\n"
     ]
    },
    {
     "name": "stderr",
     "output_type": "stream",
     "text": [
      "352it [00:39, 27.00it/s]"
     ]
    },
    {
     "name": "stdout",
     "output_type": "stream",
     "text": [
      "error  ./data/data/processed_repositories/2022-10-thegraph/GraphGovernance/initialize.txt\n",
      "error  ./data/data/processed_repositories/2022-10-thegraph/Curation/initialize.txt\n"
     ]
    },
    {
     "name": "stderr",
     "output_type": "stream",
     "text": [
      "371it [00:48,  2.01it/s]"
     ]
    },
    {
     "name": "stdout",
     "output_type": "stream",
     "text": [
      "error  ./data/data/processed_repositories/2022-10-thegraph/AllocationExchange/constructor.txt\n"
     ]
    },
    {
     "name": "stderr",
     "output_type": "stream",
     "text": [
      "392it [00:50, 11.15it/s]"
     ]
    },
    {
     "name": "stdout",
     "output_type": "stream",
     "text": [
      "error  ./data/data/processed_repositories/2022-10-thegraph/GraphCurationToken/initialize.txt\n"
     ]
    },
    {
     "name": "stderr",
     "output_type": "stream",
     "text": [
      "415it [00:53,  7.76it/s]\n"
     ]
    },
    {
     "name": "stdout",
     "output_type": "stream",
     "text": [
      "error  ./data/data/processed_repositories/2022-10-thegraph/GraphToken/constructor.txt\n",
      "parsing error ./data/data/processed_repositories/2022-10-thegraph/RewardsManager/initialize.txt\n",
      "parsing error ./data/data/processed_repositories/2022-10-thegraph/GovernedMock/constructor.txt\n",
      "parsing error ./data/data/processed_repositories/2022-10-thegraph/Controller/constructor.txt\n",
      "parsing error ./data/data/processed_repositories/2022-10-thegraph/GraphTokenUpgradeable/_initialize.txt\n",
      "parsing error ./data/data/processed_repositories/2022-10-thegraph/L2GraphToken/initialize.txt\n",
      "parsing error ./data/data/processed_repositories/2022-10-thegraph/ServiceRegistry/initialize.txt\n",
      "parsing error ./data/data/processed_repositories/2022-10-thegraph/L1GraphTokenGateway/initialize.txt\n",
      "parsing error ./data/data/processed_repositories/2022-10-thegraph/GraphProxyAdmin/constructor.txt\n",
      "parsing error ./data/data/processed_repositories/2022-10-thegraph/BridgeEscrow/initialize.txt\n",
      "parsing error ./data/data/processed_repositories/2022-10-thegraph/EpochManager/initialize.txt\n",
      "parsing error ./data/data/processed_repositories/2022-10-thegraph/Staking/initialize.txt\n",
      "parsing error ./data/data/processed_repositories/2022-10-thegraph/GNS/initialize.txt\n",
      "parsing error ./data/data/processed_repositories/2022-10-thegraph/DisputeManager/initialize.txt\n",
      "parsing error ./data/data/processed_repositories/2022-10-thegraph/GraphGovernance/initialize.txt\n",
      "parsing error ./data/data/processed_repositories/2022-10-thegraph/Curation/initialize.txt\n",
      "parsing error ./data/data/processed_repositories/2022-10-thegraph/AllocationExchange/constructor.txt\n",
      "parsing error ./data/data/processed_repositories/2022-10-thegraph/GraphCurationToken/initialize.txt\n",
      "parsing error ./data/data/processed_repositories/2022-10-thegraph/GraphToken/constructor.txt\n",
      "./data/data/processed_repositories/2022-10-thegraph  nodes  397  edges  5\n",
      "./data/data/processed_repositories/2021-08-yield  amount functions:  113\n"
     ]
    },
    {
     "name": "stderr",
     "output_type": "stream",
     "text": [
      "113it [00:35,  3.17it/s]\n"
     ]
    },
    {
     "name": "stdout",
     "output_type": "stream",
     "text": [
      "./data/data/processed_repositories/2021-08-yield  nodes  113  edges  5\n",
      "./data/data/processed_repositories/2023-09-centrifuge  amount functions:  286\n"
     ]
    },
    {
     "name": "stderr",
     "output_type": "stream",
     "text": [
      "286it [00:40,  7.02it/s]\n"
     ]
    },
    {
     "name": "stdout",
     "output_type": "stream",
     "text": [
      "./data/data/processed_repositories/2023-09-centrifuge  nodes  286  edges  5\n",
      "./data/data/processed_repositories/2021-10-badgerdao  amount functions:  39\n"
     ]
    },
    {
     "name": "stderr",
     "output_type": "stream",
     "text": [
      "39it [00:02, 13.92it/s]\n"
     ]
    },
    {
     "name": "stdout",
     "output_type": "stream",
     "text": [
      "./data/data/processed_repositories/2021-10-badgerdao  nodes  39  edges  5\n",
      "./data/data/processed_repositories/2022-10-thegraph  amount functions:  415\n"
     ]
    },
    {
     "name": "stderr",
     "output_type": "stream",
     "text": [
      "38it [00:02, 12.68it/s]"
     ]
    },
    {
     "name": "stdout",
     "output_type": "stream",
     "text": [
      "error  ./data/data/processed_repositories/2022-10-thegraph/RewardsManager/initialize.txt\n",
      "error  ./data/data/processed_repositories/2022-10-thegraph/GovernedMock/constructor.txt\n"
     ]
    },
    {
     "name": "stderr",
     "output_type": "stream",
     "text": [
      "57it [00:03, 15.31it/s]"
     ]
    },
    {
     "name": "stdout",
     "output_type": "stream",
     "text": [
      "error  ./data/data/processed_repositories/2022-10-thegraph/Controller/constructor.txt\n"
     ]
    },
    {
     "name": "stderr",
     "output_type": "stream",
     "text": [
      "83it [00:06, 10.87it/s]"
     ]
    },
    {
     "name": "stdout",
     "output_type": "stream",
     "text": [
      "error  ./data/data/processed_repositories/2022-10-thegraph/GraphTokenUpgradeable/_initialize.txt\n"
     ]
    },
    {
     "name": "stderr",
     "output_type": "stream",
     "text": [
      "91it [00:07, 13.61it/s]"
     ]
    },
    {
     "name": "stdout",
     "output_type": "stream",
     "text": [
      "error  ./data/data/processed_repositories/2022-10-thegraph/L2GraphToken/initialize.txt\n",
      "error  ./data/data/processed_repositories/2022-10-thegraph/ServiceRegistry/initialize.txt\n",
      "error  ./data/data/processed_repositories/2022-10-thegraph/L1GraphTokenGateway/initialize.txt\n"
     ]
    },
    {
     "name": "stderr",
     "output_type": "stream",
     "text": [
      "101it [00:07, 19.21it/s]"
     ]
    },
    {
     "name": "stdout",
     "output_type": "stream",
     "text": [
      "error  ./data/data/processed_repositories/2022-10-thegraph/GraphProxyAdmin/constructor.txt\n"
     ]
    },
    {
     "name": "stderr",
     "output_type": "stream",
     "text": [
      "242it [00:19, 12.38it/s]"
     ]
    },
    {
     "name": "stdout",
     "output_type": "stream",
     "text": [
      "error  ./data/data/processed_repositories/2022-10-thegraph/BridgeEscrow/initialize.txt\n"
     ]
    },
    {
     "name": "stderr",
     "output_type": "stream",
     "text": [
      "272it [00:21, 13.49it/s]"
     ]
    },
    {
     "name": "stdout",
     "output_type": "stream",
     "text": [
      "error  ./data/data/processed_repositories/2022-10-thegraph/EpochManager/initialize.txt\n",
      "error  ./data/data/processed_repositories/2022-10-thegraph/Staking/initialize.txt\n",
      "error  ./data/data/processed_repositories/2022-10-thegraph/GNS/initialize.txt\n",
      "error  ./data/data/processed_repositories/2022-10-thegraph/DisputeManager/initialize.txt\n"
     ]
    },
    {
     "name": "stderr",
     "output_type": "stream",
     "text": [
      "297it [00:32,  1.06s/it]"
     ]
    }
   ],
   "source": [
    "from tqdm import tqdm\n",
    "import random\n",
    "\n",
    "device = torch.device(\"cuda:1\" if torch.cuda.is_available() else \"cpu\")\n",
    "# import gc\n",
    "# gc.collect()\n",
    "# torch.cuda.empty_cache() \n",
    "print(f\"Using device: {device}\")\n",
    "\n",
    "model=AutoModel.from_pretrained(\"./model/base\").to(device).eval()\n",
    "tokenizer=AutoTokenizer.from_pretrained(\"./model/base\")\n",
    "func_sig_end_symbol='{' # for solidity\n",
    "metamodel=MetaEmbedderModel(tokenizer,model,func_sig_end_symbol).to(device)\n",
    "metamodel.setup_metadata()\n",
    "task_model=LinkPredictorHead().to(device)\n",
    "\n",
    "link_loss_fn = torch.nn.BCEWithLogitsLoss()\n",
    "optimizer_meta=torch.optim.Adam(metamodel.parameters(),lr=0.00001)\n",
    "optimizer_link=torch.optim.Adam(task_model.parameters(),lr=0.00001)\n",
    "epoch=2\n",
    "batch_size=4\n",
    "epochs_losses=[]\n",
    "epochs_metrics=[] # [0:[preds_probs,answers],1:[preds_probs,answers]]\n",
    "\n",
    "def calc_metrics(probs, targets, threshold=0.5):\n",
    "    preds = (probs > threshold).float()\n",
    "    targets = targets.float()\n",
    "    \n",
    "    true_pos = (preds * targets).sum().float()\n",
    "    false_pos = (preds * (1 - targets)).sum().float()\n",
    "    false_neg = ((1 - preds) * targets).sum().float()\n",
    "    \n",
    "    precision = true_pos / (true_pos + false_pos + 1e-10)  # Avoid division by zero\n",
    "    recall = true_pos / (true_pos + false_neg + 1e-10)\n",
    "    \n",
    "    return {\n",
    "        'precision': precision.item(),\n",
    "        'recall': recall.item(),\n",
    "        'f1': (2 * precision * recall / (precision + recall + 1e-10)).item()\n",
    "    }\n",
    "\n",
    "def train_batch(metamodel,task_model,optimizer_meta,optimizer_link,loss_fn,batch_p,batch_n):\n",
    "    optimizer_meta.zero_grad()\n",
    "    optimizer_link.zero_grad()\n",
    "    \n",
    "    gnn_embeddings_a,gnn_embeddings_p,gnn_embeddings_n=metamodel(batch_p,batch_n)\n",
    "    # take negatives to match anchor shape\n",
    "    sampled_negatives=sample_negatives(gnn_embeddings_n,gnn_embeddings_a.shape) # [num_pos,2] each node will have 1 pos and 1 neg\n",
    "    # shuffle positive and negative to prevent cheating\n",
    "    shuffled_pn,targets=shuffle_pos_neg(gnn_embeddings_p,sampled_negatives,device)\n",
    "    # currently model compares node:[node], need node:[node1,node2,...]\n",
    "    link_predictions1=task_model(gnn_embeddings_a,shuffled_pn[:gnn_embeddings_a.shape[0]]) # [num_nodes_a,1]\n",
    "    link_predictions2=task_model(gnn_embeddings_a,shuffled_pn[gnn_embeddings_a.shape[0]:]) # [num_nodes_a,1]\n",
    "    loss = loss_fn(link_predictions1, targets[:gnn_embeddings_a.shape[0]])+loss_fn(link_predictions2, targets[gnn_embeddings_a.shape[0]:])\n",
    "    link_predictions=torch.cat((link_predictions1,link_predictions2),dim=0)\n",
    "    \n",
    "    loss.backward()\n",
    "    optimizer_meta.step()\n",
    "    optimizer_link.step()\n",
    "    return torch.sigmoid(link_predictions),targets,loss.item()\n",
    "\n",
    "repo_dir='./data/data/processed_repositories'\n",
    "full_paths=[repo_dir+'/'+ repo for repo in os.listdir(repo_dir)]\n",
    "\n",
    "for i in range(epoch):\n",
    "    probs=[]\n",
    "    targets=[]\n",
    "    losses=[]\n",
    "    shuffled=random.shuffle(full_paths)\n",
    "    batches_p=[full_paths[i:i+batch_size] for i in range(0,len(full_paths),batch_size)]\n",
    "    shuffled=random.shuffle(full_paths)\n",
    "    batches_n=[full_paths[i:i+batch_size] for i in range(0,len(full_paths),batch_size)]\n",
    "    for j in range(len(batches_p)):\n",
    "        prob_batch,target_batch,loss=train_batch(metamodel,task_model,optimizer_meta,optimizer_link,link_loss_fn,batches_p[j],batches_n[j])\n",
    "        probs.append(prob_batch)\n",
    "        targets.append(target_batch)\n",
    "        losses.append(loss)\n",
    "        print(prob_batch)\n",
    "        print(target_batch)\n",
    "        print(loss)\n",
    "    epochs_losses.append(losses)\n",
    "    epochs_metrics.append((probs,targets))\n",
    "\n",
    "print('losses ',losses)"
   ]
  },
  {
   "cell_type": "code",
   "execution_count": 59,
   "id": "ecd9c94d-3ba5-40cf-9f12-b725b82c8f25",
   "metadata": {},
   "outputs": [
    {
     "data": {
      "image/png": "[encoded data removed]",
      "text/plain": [
       "<Figure size 1200x500 with 2 Axes>"
      ]
     },
     "metadata": {},
     "output_type": "display_data"
    },
    {
     "name": "stdout",
     "output_type": "stream",
     "text": [
      "{'pr_auc': 0.5679749481968842, 'roc_auc': 0.6120692155286149, 'precision': 0.5719949081651189, 'recall': 0.7119188809922561, 'f1': 0.6343322711561735, 'threshold': 0.4}\n"
     ]
    },
    {
     "data": {
      "image/png": "[encoded data removed]",
      "text/plain": [
       "<Figure size 640x480 with 1 Axes>"
      ]
     },
     "metadata": {},
     "output_type": "display_data"
    }
   ],
   "source": [
    "import matplotlib.pyplot as plt\n",
    "from sklearn.metrics import precision_recall_curve, roc_curve, auc\n",
    "import numpy as np\n",
    "\n",
    "def calc_metrics(predictions, targets, threshold=0.5):\n",
    "    \"\"\"Calculate metrics and plot Precision-Recall & ROC curves\"\"\"\n",
    "    # Convert to numpy\n",
    "    y_true = targets.cpu().numpy()\n",
    "    y_scores = predictions.cpu().numpy()  # Convert logits to probabilities\n",
    "    \n",
    "    # --- Precision-Recall Curve ---\n",
    "    precision, recall, pr_thresholds = precision_recall_curve(y_true, y_scores)\n",
    "    pr_auc = auc(recall, precision)\n",
    "    \n",
    "    plt.figure(figsize=(12, 5))\n",
    "    \n",
    "    plt.subplot(1, 2, 1)\n",
    "    plt.plot(recall, precision, color='blue', lw=2, \n",
    "             label=f'PR curve (AUC = {pr_auc:.2f})')\n",
    "    plt.plot([0, 1], [0.5, 0.5], color='navy', lw=2, linestyle='--')\n",
    "    plt.xlabel('Recall')\n",
    "    plt.ylabel('Precision')\n",
    "    plt.title('Precision-Recall Curve')\n",
    "    plt.legend(loc=\"lower left\")\n",
    "    plt.grid(True)\n",
    "    \n",
    "    # --- ROC Curve ---\n",
    "    fpr, tpr, roc_thresholds = roc_curve(y_true, y_scores)\n",
    "    roc_auc = auc(fpr, tpr)\n",
    "    \n",
    "    plt.subplot(1, 2, 2)\n",
    "    plt.plot(fpr, tpr, color='darkorange', lw=2,\n",
    "             label=f'ROC curve (AUC = {roc_auc:.2f})')\n",
    "    plt.plot([0, 1], [0, 1], color='navy', lw=2, linestyle='--')\n",
    "    plt.xlabel('False Positive Rate')\n",
    "    plt.ylabel('True Positive Rate')\n",
    "    plt.title('Receiver Operating Characteristic')\n",
    "    plt.legend(loc=\"lower right\")\n",
    "    plt.grid(True)\n",
    "    \n",
    "    plt.tight_layout()\n",
    "    plt.show()\n",
    "\n",
    "    # Loss\n",
    "    plt.subplot(1, 2, 2)\n",
    "    plt.plot(list(range(len(epochs_losses[0]))), epochs_losses[0])\n",
    "    plt.xlabel('Batch number')\n",
    "    plt.ylabel('Loss')\n",
    "    plt.title('Loss')\n",
    "    \n",
    "    # --- Threshold-based Metrics ---\n",
    "    preds = (y_scores > threshold).astype(float)\n",
    "    tp = np.sum((preds == 1) & (y_true == 1))\n",
    "    fp = np.sum((preds == 1) & (y_true == 0))\n",
    "    fn = np.sum((preds == 0) & (y_true == 1))\n",
    "    \n",
    "    precision_at_thresh = tp / (tp + fp + 1e-10)\n",
    "    recall_at_thresh = tp / (tp + fn + 1e-10)\n",
    "    f1 = 2 * (precision_at_thresh * recall_at_thresh) / (precision_at_thresh + recall_at_thresh + 1e-10)\n",
    "    \n",
    "    return {\n",
    "        'pr_auc': pr_auc,\n",
    "        'roc_auc': roc_auc,\n",
    "        'precision': precision_at_thresh,\n",
    "        'recall': recall_at_thresh,\n",
    "        'f1': f1,\n",
    "        'threshold': threshold\n",
    "    }\n",
    "\n",
    "# Usage\n",
    "metrics = calc_metrics(\n",
    "    torch.cat(epochs_metrics[0][0]).detach(),  # Predictions\n",
    "    torch.cat(epochs_metrics[0][1]).detach(),  # Targets\n",
    "    threshold=0.4\n",
    ")\n",
    "print(metrics)"
   ]
  },
  {
   "cell_type": "code",
   "execution_count": 57,
   "id": "eebfd6e3-db2d-4544-810c-e2e901c28f58",
   "metadata": {},
   "outputs": [],
   "source": [
    "torch.save(metamodel, './model/metamodel.pth')\n",
    "torch.save(task_model, './model/task_model.pth')"
   ]
  },
  {
   "cell_type": "code",
   "execution_count": null,
   "id": "86e9c2b4-b4cd-4b2f-88b9-e53597b80ab2",
   "metadata": {},
   "outputs": [],
   "source": [
    "# TODO: fix internal call error in data\n",
    "# TODO: fix slow one-threaded json parsing"
   ]
  }
 ],
 "metadata": {
  "kernelspec": {
   "display_name": "soliditygraph",
   "language": "python",
   "name": "soliditygraph"
  },
  "language_info": {
   "codemirror_mode": {
    "name": "ipython",
    "version": 3
   },
   "file_extension": ".py",
   "mimetype": "text/x-python",
   "name": "python",
   "nbconvert_exporter": "python",
   "pygments_lexer": "ipython3",
   "version": "3.8.10"
  }
 },
 "nbformat": 4,
 "nbformat_minor": 5
}
